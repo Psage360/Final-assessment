{
 "cells": [
  {
   "cell_type": "markdown",
   "id": "adb32924-958d-4758-8b4d-5b02aed9d770",
   "metadata": {},
   "source": [
    "# Data Science Tools and Ecosystem"
   ]
  },
  {
   "cell_type": "markdown",
   "id": "fba7755f-eee8-41ac-8280-1bc1f3bcc8cc",
   "metadata": {},
   "source": [
    "In this notebook, Data Science Tools and Ecosystems are summarized"
   ]
  },
  {
   "cell_type": "markdown",
   "id": "30907fd6-3741-43f5-9e9c-3927a2bee40a",
   "metadata": {},
   "source": [
    "Some of the popular languages that Data Scientists use are:\n",
    "1. JAVA \n",
    "2. Python\n",
    "3. SQL\n"
   ]
  },
  {
   "cell_type": "markdown",
   "id": "9ca79c30-32ea-4658-84f9-e878cf58ecf9",
   "metadata": {},
   "source": [
    "Some of the commonly used libraries used by Data Scientists include:\n",
    "1. Lib 1\n",
    "2. Lib 2\n",
    "3. Lib 3"
   ]
  },
  {
   "cell_type": "markdown",
   "id": "f7430f20-5c98-4a3f-be1b-c2a8d87ae206",
   "metadata": {},
   "source": [
    " |Data Science Tools| \n",
    " |------------------|\n",
    " |Apache Spark |\n",
    " | Apache Hadoop|\n",
    " | RStudio |"
   ]
  },
  {
   "cell_type": "markdown",
   "id": "d7c569a5-bcd9-462b-a37f-245b3d891cce",
   "metadata": {},
   "source": [
    "### Below are a few examples of evaluating arithmetic expressions in Python"
   ]
  },
  {
   "cell_type": "markdown",
   "id": "58fed077-5482-4613-ac98-4a03865d00e2",
   "metadata": {},
   "source": [
    "This a simple arithmetic expression to multiply then add integers"
   ]
  },
  {
   "cell_type": "code",
   "execution_count": 21,
   "id": "6b268449-c91f-448d-ac43-c9a1d3f896d3",
   "metadata": {},
   "outputs": [
    {
     "data": {
      "text/plain": [
       "17"
      ]
     },
     "execution_count": 21,
     "metadata": {},
     "output_type": "execute_result"
    }
   ],
   "source": [
    "(3*4)+5"
   ]
  },
  {
   "cell_type": "code",
   "execution_count": 38,
   "id": "b8662799-251f-4efc-b97b-31786102f48c",
   "metadata": {},
   "outputs": [
    {
     "data": {
      "text/plain": [
       "3.3333333333333335"
      ]
     },
     "execution_count": 38,
     "metadata": {},
     "output_type": "execute_result"
    }
   ],
   "source": [
    "# Conversion factor : 1 hour = 60 minutes\n",
    "minutes = 200\n",
    "hours = minutes/60\n",
    "\n",
    "hours"
   ]
  },
  {
   "cell_type": "markdown",
   "id": "f5574b4d-85ff-4f46-9577-252ca1d54e7f",
   "metadata": {},
   "source": [
    "This will convert 200 minutes to hours by dividing by 60"
   ]
  },
  {
   "cell_type": "markdown",
   "id": "72afd03d-7d6d-4569-8cfd-ba0b98109f7b",
   "metadata": {},
   "source": [
    "## Author\n",
    "Hardhwardhan Raykar"
   ]
  },
  {
   "cell_type": "code",
   "execution_count": null,
   "id": "8781aa82-11aa-4700-9bef-648db95794b4",
   "metadata": {},
   "outputs": [],
   "source": []
  }
 ],
 "metadata": {
  "kernelspec": {
   "display_name": "Python 3 (ipykernel)",
   "language": "python",
   "name": "python3"
  },
  "language_info": {
   "codemirror_mode": {
    "name": "ipython",
    "version": 3
   },
   "file_extension": ".py",
   "mimetype": "text/x-python",
   "name": "python",
   "nbconvert_exporter": "python",
   "pygments_lexer": "ipython3",
   "version": "3.12.4"
  }
 },
 "nbformat": 4,
 "nbformat_minor": 5
}
